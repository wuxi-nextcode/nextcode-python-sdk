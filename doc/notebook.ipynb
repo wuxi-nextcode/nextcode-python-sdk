{
 "cells": [
  {
   "cell_type": "markdown",
   "metadata": {},
   "source": [
    "# Building queries with the Python SDK\n",
    "In the following notebook, we will show how to build complex queries in GOR using the Python SDK to connect to our instance. First, as always, we load the gor magic extension to be able to use the `%gor` and `%%gor` syntax.\n",
    "This notebook assumes you are familiar with the gor syntax."
   ]
  },
  {
   "cell_type": "code",
   "execution_count": 1,
   "metadata": {},
   "outputs": [],
   "source": [
    "# Install the python sdk, if needed\n",
    "! pip install nextcode-sdk[jupyter] -U > /dev/null"
   ]
  },
  {
   "cell_type": "code",
   "execution_count": 2,
   "metadata": {},
   "outputs": [
    {
     "name": "stdout",
     "output_type": "stream",
     "text": [
      " Gor magic extension has been loaded. You can now use '%gor' and '%%gor' in this notebook\n",
      " * Python SDK Version: 0.8.1\n",
      " * Query API Version: 1.10.0\n",
      " * GOR Version: 2.6.0 (git SHA 622555a)\n",
      " * Root Endpoint: https://platform.wuxinextcodedev.com/api/query/\n",
      " * Current User: jonb@wuxinextcode.com\n",
      " * Current Project: ukbb_hg38 (%env GOR_API_PROJECT=xxx)\n",
      "env: LOG_QUERY=1\n"
     ]
    }
   ],
   "source": [
    "# load the magic extension and imports\n",
    "%reload_ext nextcode\n",
    "import nextcode\n",
    "import pandas as pd\n",
    "%env LOG_QUERY=1"
   ]
  },
  {
   "cell_type": "markdown",
   "metadata": {},
   "source": [
    "#### Simple single-line gor expression"
   ]
  },
  {
   "cell_type": "code",
   "execution_count": 3,
   "metadata": {},
   "outputs": [
    {
     "name": "stdout",
     "output_type": "stream",
     "text": [
      "Query 19503 generated 2 rows in 0.84 sec\n"
     ]
    },
    {
     "data": {
      "text/html": [
       "<div>\n",
       "<style scoped>\n",
       "    .dataframe tbody tr th:only-of-type {\n",
       "        vertical-align: middle;\n",
       "    }\n",
       "\n",
       "    .dataframe tbody tr th {\n",
       "        vertical-align: top;\n",
       "    }\n",
       "\n",
       "    .dataframe thead th {\n",
       "        text-align: right;\n",
       "    }\n",
       "</style>\n",
       "<table border=\"1\" class=\"dataframe\">\n",
       "  <thead>\n",
       "    <tr style=\"text-align: right;\">\n",
       "      <th></th>\n",
       "      <th>Chrom</th>\n",
       "      <th>pos</th>\n",
       "      <th>reference</th>\n",
       "      <th>allele</th>\n",
       "      <th>rsids</th>\n",
       "    </tr>\n",
       "  </thead>\n",
       "  <tbody>\n",
       "    <tr>\n",
       "      <th>0</th>\n",
       "      <td>chr1</td>\n",
       "      <td>10020</td>\n",
       "      <td>AA</td>\n",
       "      <td>A</td>\n",
       "      <td>rs775809821</td>\n",
       "    </tr>\n",
       "    <tr>\n",
       "      <th>1</th>\n",
       "      <td>chr1</td>\n",
       "      <td>10039</td>\n",
       "      <td>A</td>\n",
       "      <td>C</td>\n",
       "      <td>rs978760828</td>\n",
       "    </tr>\n",
       "  </tbody>\n",
       "</table>\n",
       "</div>"
      ],
      "text/plain": [
       "  Chrom    pos reference allele        rsids\n",
       "0  chr1  10020        AA      A  rs775809821\n",
       "1  chr1  10039         A      C  rs978760828"
      ]
     },
     "execution_count": 3,
     "metadata": {},
     "output_type": "execute_result"
    }
   ],
   "source": [
    "%gor nor #dbsnp# | top 2"
   ]
  },
  {
   "cell_type": "markdown",
   "metadata": {},
   "source": [
    "#### Single-line gor expression which stores results in local variable"
   ]
  },
  {
   "cell_type": "code",
   "execution_count": 4,
   "metadata": {},
   "outputs": [
    {
     "name": "stdout",
     "output_type": "stream",
     "text": [
      "Query 19504 generated 2 rows in 0.73 sec\n"
     ]
    }
   ],
   "source": [
    "var = %gor nor #dbsnp# | top 2"
   ]
  },
  {
   "cell_type": "code",
   "execution_count": 5,
   "metadata": {},
   "outputs": [
    {
     "name": "stdout",
     "output_type": "stream",
     "text": [
      "  Chrom    pos reference allele        rsids\n",
      "0  chr1  10020        AA      A  rs775809821\n",
      "1  chr1  10039         A      C  rs978760828\n"
     ]
    }
   ],
   "source": [
    "print(var)"
   ]
  },
  {
   "cell_type": "markdown",
   "metadata": {},
   "source": [
    "#### Simple multi-line gor expression\n",
    "Multi-line expressions are started with `%%`. Each statement should end with `;`"
   ]
  },
  {
   "cell_type": "code",
   "execution_count": 6,
   "metadata": {},
   "outputs": [
    {
     "name": "stdout",
     "output_type": "stream",
     "text": [
      "Query 19505 generated 2 rows in 0.77 sec\n"
     ]
    },
    {
     "data": {
      "text/html": [
       "<div>\n",
       "<style scoped>\n",
       "    .dataframe tbody tr th:only-of-type {\n",
       "        vertical-align: middle;\n",
       "    }\n",
       "\n",
       "    .dataframe tbody tr th {\n",
       "        vertical-align: top;\n",
       "    }\n",
       "\n",
       "    .dataframe thead th {\n",
       "        text-align: right;\n",
       "    }\n",
       "</style>\n",
       "<table border=\"1\" class=\"dataframe\">\n",
       "  <thead>\n",
       "    <tr style=\"text-align: right;\">\n",
       "      <th></th>\n",
       "      <th>Chrom</th>\n",
       "      <th>pos</th>\n",
       "      <th>reference</th>\n",
       "      <th>allele</th>\n",
       "      <th>rsids</th>\n",
       "    </tr>\n",
       "  </thead>\n",
       "  <tbody>\n",
       "    <tr>\n",
       "      <th>0</th>\n",
       "      <td>chr1</td>\n",
       "      <td>10020</td>\n",
       "      <td>AA</td>\n",
       "      <td>A</td>\n",
       "      <td>rs775809821</td>\n",
       "    </tr>\n",
       "    <tr>\n",
       "      <th>1</th>\n",
       "      <td>chr1</td>\n",
       "      <td>10039</td>\n",
       "      <td>A</td>\n",
       "      <td>C</td>\n",
       "      <td>rs978760828</td>\n",
       "    </tr>\n",
       "  </tbody>\n",
       "</table>\n",
       "</div>"
      ],
      "text/plain": [
       "  Chrom    pos reference allele        rsids\n",
       "0  chr1  10020        AA      A  rs775809821\n",
       "1  chr1  10039         A      C  rs978760828"
      ]
     },
     "execution_count": 6,
     "metadata": {},
     "output_type": "execute_result"
    }
   ],
   "source": [
    "%%gor\n",
    "  def #top# = 2;\n",
    "  gor #dbsnp#\n",
    "   | top #top#;"
   ]
  },
  {
   "cell_type": "markdown",
   "metadata": {},
   "source": [
    "#### Multi-line gor expression which stores results in local variable\n",
    "To load results from a multi-line gor expression into a variable you can use the special `<<` operator"
   ]
  },
  {
   "cell_type": "code",
   "execution_count": 7,
   "metadata": {},
   "outputs": [
    {
     "name": "stdout",
     "output_type": "stream",
     "text": [
      "Query 19506 generated 10 rows in 0.86 sec\n"
     ]
    }
   ],
   "source": [
    "%%gor new_results <<\n",
    "def #tops# = 10;\n",
    "gor #dbsnp# | top #tops#;"
   ]
  },
  {
   "cell_type": "code",
   "execution_count": 8,
   "metadata": {},
   "outputs": [
    {
     "data": {
      "text/plain": [
       "RangeIndex(start=0, stop=10, step=1)"
      ]
     },
     "execution_count": 8,
     "metadata": {},
     "output_type": "execute_result"
    }
   ],
   "source": [
    "new_results.index"
   ]
  },
  {
   "cell_type": "markdown",
   "metadata": {},
   "source": [
    "#### Store results in the user_data folder\n",
    "Instead of fetching the data to the jupyter server you can also use the | write gor command to store files in the user_data folder within the project on NFS."
   ]
  },
  {
   "cell_type": "code",
   "execution_count": 9,
   "metadata": {},
   "outputs": [
    {
     "name": "stdout",
     "output_type": "stream",
     "text": [
      "Query 19507 generated 0 rows in 0.86 sec\n"
     ]
    },
    {
     "data": {
      "text/html": [
       "<div>\n",
       "<style scoped>\n",
       "    .dataframe tbody tr th:only-of-type {\n",
       "        vertical-align: middle;\n",
       "    }\n",
       "\n",
       "    .dataframe tbody tr th {\n",
       "        vertical-align: top;\n",
       "    }\n",
       "\n",
       "    .dataframe thead th {\n",
       "        text-align: right;\n",
       "    }\n",
       "</style>\n",
       "<table border=\"1\" class=\"dataframe\">\n",
       "  <thead>\n",
       "    <tr style=\"text-align: right;\">\n",
       "      <th></th>\n",
       "    </tr>\n",
       "  </thead>\n",
       "  <tbody>\n",
       "  </tbody>\n",
       "</table>\n",
       "</div>"
      ],
      "text/plain": [
       "Empty DataFrame\n",
       "Columns: []\n",
       "Index: []"
      ]
     },
     "execution_count": 9,
     "metadata": {},
     "output_type": "execute_result"
    }
   ],
   "source": [
    "%%gor\n",
    "  pgor #dbsnp#\n",
    "   | top 1000\n",
    "   | write user_data/outfile.gorz;"
   ]
  },
  {
   "cell_type": "code",
   "execution_count": 10,
   "metadata": {},
   "outputs": [
    {
     "name": "stdout",
     "output_type": "stream",
     "text": [
      "outfile.gorz (10.2KiB)\n"
     ]
    }
   ],
   "source": [
    "# verify that the file is there by executing gorls\n",
    "%gorls user_data outfile.gorz"
   ]
  },
  {
   "cell_type": "code",
   "execution_count": 11,
   "metadata": {},
   "outputs": [
    {
     "name": "stdout",
     "output_type": "stream",
     "text": [
      "Query 19509 generated 1 rows in 0.73 sec\n"
     ]
    },
    {
     "data": {
      "text/html": [
       "<div>\n",
       "<style scoped>\n",
       "    .dataframe tbody tr th:only-of-type {\n",
       "        vertical-align: middle;\n",
       "    }\n",
       "\n",
       "    .dataframe tbody tr th {\n",
       "        vertical-align: top;\n",
       "    }\n",
       "\n",
       "    .dataframe thead th {\n",
       "        text-align: right;\n",
       "    }\n",
       "</style>\n",
       "<table border=\"1\" class=\"dataframe\">\n",
       "  <thead>\n",
       "    <tr style=\"text-align: right;\">\n",
       "      <th></th>\n",
       "      <th>Chrom</th>\n",
       "      <th>bpStart</th>\n",
       "      <th>bpStop</th>\n",
       "      <th>allCount</th>\n",
       "    </tr>\n",
       "  </thead>\n",
       "  <tbody>\n",
       "    <tr>\n",
       "      <th>0</th>\n",
       "      <td>chr7</td>\n",
       "      <td>0</td>\n",
       "      <td>159345973</td>\n",
       "      <td>1000</td>\n",
       "    </tr>\n",
       "  </tbody>\n",
       "</table>\n",
       "</div>"
      ],
      "text/plain": [
       "  Chrom  bpStart     bpStop  allCount\n",
       "0  chr7        0  159345973      1000"
      ]
     },
     "execution_count": 11,
     "metadata": {},
     "output_type": "execute_result"
    }
   ],
   "source": [
    "# now you can gor this file and bring the results into a local dataframe\n",
    "%gor user_data/outfile.gorz | GROUP chrom -count | top 2"
   ]
  },
  {
   "cell_type": "markdown",
   "metadata": {},
   "source": [
    "### Download results to a local file\n",
    "When the results are very large and you want to be able to use them locally without rerunning the query you can stream the results directly to a file with the << operator by specifying `file:`.\n",
    "You can cancel the download at any time and have partial results in the output file."
   ]
  },
  {
   "cell_type": "code",
   "execution_count": null,
   "metadata": {},
   "outputs": [],
   "source": [
    "filename = \"dbsnp_2m.tsv\""
   ]
  },
  {
   "cell_type": "code",
   "execution_count": null,
   "metadata": {},
   "outputs": [],
   "source": [
    "%%gor file:$filename <<\n",
    "    gor #dbsnp# | top 2000000"
   ]
  },
  {
   "cell_type": "code",
   "execution_count": null,
   "metadata": {},
   "outputs": [],
   "source": [
    "!wc -l $filename\n",
    "!ls -lh $filename"
   ]
  },
  {
   "cell_type": "markdown",
   "metadata": {},
   "source": [
    "\n",
    "\n",
    "\n",
    "\n",
    "\n",
    "\n"
   ]
  },
  {
   "cell_type": "code",
   "execution_count": null,
   "metadata": {},
   "outputs": [],
   "source": []
  },
  {
   "cell_type": "code",
   "execution_count": null,
   "metadata": {},
   "outputs": [],
   "source": []
  },
  {
   "cell_type": "markdown",
   "metadata": {},
   "source": [
    "#### Gor expression which references a local variable\n",
    "Local variables can be references using the `$xxx` syntax. This will expand the variable inline and is meant to be used for simple strings and numbers"
   ]
  },
  {
   "cell_type": "code",
   "execution_count": null,
   "metadata": {},
   "outputs": [],
   "source": [
    "num = 5"
   ]
  },
  {
   "cell_type": "code",
   "execution_count": null,
   "metadata": {},
   "outputs": [],
   "source": [
    "%%gor\n",
    "  gor -p chr1:69000-70000 #dbsnp#\n",
    "   | TOP $num;"
   ]
  },
  {
   "cell_type": "markdown",
   "metadata": {},
   "source": [
    "#### Gor expression with defs and create statements"
   ]
  },
  {
   "cell_type": "code",
   "execution_count": null,
   "metadata": {},
   "outputs": [],
   "source": [
    "%%gor\n",
    "def #number# = $num;\n",
    "def #VEP_single# = UKBB/freezes/2019_0325/plink_wes/vep_single.gorz;\n",
    "def #myfavouritefood# = pizza;\n",
    "\n",
    "create mydbsnp = gor -p chr1:69000-70000 #dbsnp#\n",
    "                  | TOP #number#;\n",
    "\n",
    "gor [mydbsnp];"
   ]
  },
  {
   "cell_type": "markdown",
   "metadata": {},
   "source": [
    "#### Compound expressions\n",
    "Using the local variables you can construct compount expressions, allowing you to split up long gor scripts."
   ]
  },
  {
   "cell_type": "code",
   "execution_count": null,
   "metadata": {},
   "outputs": [],
   "source": [
    "defs = \"\"\"\n",
    "def #myfirstdef# = 2;\n",
    "def #myseconddef# = 2;\n",
    "\n",
    "\"\"\"\n",
    "creates = \"\"\"\n",
    "create mydbsnp = gor -p chr1:69000-70000 #dbsnp#\n",
    "                  | TOP #myfirstdef#;\n",
    "\"\"\""
   ]
  },
  {
   "cell_type": "code",
   "execution_count": null,
   "metadata": {},
   "outputs": [],
   "source": [
    "%%gor\n",
    " $defs\n",
    " $creates\n",
    "\n",
    " gor [mydbsnp];"
   ]
  },
  {
   "cell_type": "markdown",
   "metadata": {},
   "source": [
    "#### Virtual relations\n",
    "You can load pandas dataframes into the query with the special `[var:xxx]` syntax."
   ]
  },
  {
   "cell_type": "code",
   "execution_count": null,
   "metadata": {},
   "outputs": [],
   "source": [
    "allpns = pd.read_csv('pnlist.tsv', delimiter='\\t')"
   ]
  },
  {
   "cell_type": "code",
   "execution_count": null,
   "metadata": {},
   "outputs": [],
   "source": [
    "%%gor\n",
    "  create bla = gor #dbsnp#\n",
    "   | top 10;\n",
    "  nor [var:allpns]\n",
    "   | top 5;"
   ]
  },
  {
   "cell_type": "markdown",
   "metadata": {},
   "source": [
    "#### Cancelling queries\n",
    "Try executing this long-running query and then click the stop button"
   ]
  },
  {
   "cell_type": "code",
   "execution_count": null,
   "metadata": {},
   "outputs": [],
   "source": [
    "results = %gor pgor #dbsnp# | GROUP chrom -count"
   ]
  },
  {
   "cell_type": "markdown",
   "metadata": {},
   "source": [
    "### Using the SDK without magic syntax\n",
    "The `%` and `%%` is simply syntactic sugar for executing queries through the python sdk. You can use the sdk directly as well and that is probably the preferred method for serious analysis."
   ]
  },
  {
   "cell_type": "markdown",
   "metadata": {},
   "source": [
    "#### Initializing the SDK\n",
    "The SDK usually needs to be initialized with an API key and a project. However, in Wuxi notebooks this has already been done for you."
   ]
  },
  {
   "cell_type": "code",
   "execution_count": null,
   "metadata": {},
   "outputs": [],
   "source": [
    "#%env GOR_API_KEY=[jwt token]\n",
    "#%env GOR_API_PROJECT=[project name]\n",
    "from nextcode import Nextcode\n",
    "import pandas\n",
    "nc = Nextcode()\n"
   ]
  },
  {
   "cell_type": "markdown",
   "metadata": {},
   "source": [
    "#### Running basic queries"
   ]
  },
  {
   "cell_type": "code",
   "execution_count": null,
   "metadata": {},
   "outputs": [],
   "source": [
    "qry = nc.query.execute(\"gor #dbsnp# | top 2;\")\n",
    "print(f\"Query {qry.query_id} is {qry.status}. Runtime was {qry.duration} ms and it produced {qry.line_count} rows.\")\n",
    "print(f\"The query that was run: {qry.query}\")\n",
    "from pprint import pprint\n",
    "df = qry.dataframe()\n",
    "df"
   ]
  },
  {
   "cell_type": "markdown",
   "metadata": {},
   "source": [
    "#### Analysing failed queries"
   ]
  },
  {
   "cell_type": "code",
   "execution_count": null,
   "metadata": {},
   "outputs": [],
   "source": [
    "qry = nc.query.execute(\"gor #unknowndef# | top 2;\")\n",
    "if qry.status == \"FAILED\":\n",
    "    import sys\n",
    "    print(f\"Query failed with error: {qry.error['message']}\\n\", file=sys.stderr)\n",
    "    print(f\"Additional information available from qry.error[]: {list(qry.error.keys())}\", file=sys.stderr)"
   ]
  },
  {
   "cell_type": "markdown",
   "metadata": {},
   "source": [
    "#### Using virtual relations"
   ]
  },
  {
   "cell_type": "code",
   "execution_count": null,
   "metadata": {},
   "outputs": [],
   "source": [
    "import pandas as pd\n",
    "from nextcode import Nextcode\n",
    "nc = Nextcode()\n",
    "\n",
    "# use a dataframe as a virtual relation\n",
    "df = pd.DataFrame(columns=[\"hello\", \"world\"], data=[[1, 2]])\n",
    "qry = nc.query.execute(\"gor [test]\", test=df)\n",
    "print(qry.dataframe())\n",
    "\n",
    "# use a tsv string as a virtual relation\n",
    "tsv = \"\"\"hello\\tworld\\n1\\t2\"\"\"\n",
    "qry = nc.query.execute(\"gor [test]\", test=tsv)\n",
    "print(qry.dataframe())\n",
    "\n",
    "# if your virtual relation uses special characters (:) in variable name\n",
    "qry = nc.query.execute(\"gor [var:test]\", relations=[{\"name\": \"var:test\", \"data\": df}])\n",
    "print(qry.dataframe())"
   ]
  }
 ],
 "metadata": {
  "kernelspec": {
   "display_name": "Python 3",
   "language": "python",
   "name": "python3"
  },
  "language_info": {
   "codemirror_mode": {
    "name": "ipython",
    "version": 3
   },
   "file_extension": ".py",
   "mimetype": "text/x-python",
   "name": "python",
   "nbconvert_exporter": "python",
   "pygments_lexer": "ipython3",
   "version": "3.7.3"
  }
 },
 "nbformat": 4,
 "nbformat_minor": 4
}
